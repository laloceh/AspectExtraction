{
 "cells": [
  {
   "cell_type": "code",
   "execution_count": null,
   "metadata": {
    "collapsed": true
   },
   "outputs": [],
   "source": []
  },
  {
   "cell_type": "code",
   "execution_count": 254,
   "outputs": [],
   "source": [
    "import pandas as pd\n",
    "import os\n",
    "import sys\n",
    "import nltk\n",
    "import ast\n",
    "import re\n",
    "import itertools\n",
    "import numpy as np\n",
    "\n",
    "from nltk.tokenize import word_tokenize\n",
    "from nltk.corpus import wordnet\n",
    "from nltk.corpus import sentiwordnet\n",
    "from nltk.tokenize import sent_tokenize\n",
    "\n",
    "pd.set_option('display.max_rows', 500)\n",
    "pd.set_option('display.max_columns', 500)\n",
    "pd.set_option('display.width', 1000)"
   ],
   "metadata": {
    "collapsed": false,
    "pycharm": {
     "name": "#%%\n",
     "is_executing": false
    }
   }
  },
  {
   "cell_type": "code",
   "execution_count": 282,
   "outputs": [],
   "source": [
    "custom_stop_words = ['ok', 'yes', 'everything', 'one', 'two', 'three']\n",
    "stop_words = nltk.corpus.stopwords.words('english')\n",
    "stop_words.extend(custom_stop_words)\n",
    "\n",
    "grammar = r'NP: {<DT>? <JJ>* <NN.*>+}'"
   ],
   "metadata": {
    "collapsed": false,
    "pycharm": {
     "name": "#%%\n",
     "is_executing": false
    }
   }
  },
  {
   "cell_type": "markdown",
   "source": [
    "### Load the Data"
   ],
   "metadata": {
    "collapsed": false,
    "pycharm": {
     "name": "#%% md\n"
    }
   }
  },
  {
   "cell_type": "code",
   "execution_count": 283,
   "outputs": [
    {
     "name": "stdout",
     "text": [
      "                      address                                         categories         city country   latitude   longitude                                        name postalCode                    province          reviews.date     reviews.dateAdded  reviews.doRecommend  reviews.id  reviews.rating                                       reviews.text              reviews.title reviews.userCity reviews.username reviews.userProvince\n35526  1520 Candelaria Rd N E       Motels,Hotels,Bed & Breakfast & Inns,Lodging  Albuquerque      US  35.114822 -106.627610                  Ambassador Inn Albuquerque      87107  Los Ranchos De Albuquerque  2013-08-08T00:00:00Z  2016-06-22T19:06:57Z                  NaN         NaN             5.0  We stayed there for one night during August 20...                  Excellent       Sedgefield          Sarie V                   NM\n12427  7380 Stage Road Hwy 64                                             Hotels      Memphis      US  35.204860  -89.808600  Suburban Extended Stay of Memphis Bartlett      38133                        Mphs  2014-05-09T00:00:00Z  2016-11-16T04:19:34Z                  NaN         NaN             5.0  The room was clean, few blemishes, but the plu...     I got my $$$$'s worth!              NaN         Mamabear                  NaN\n12570          1515 Dallas St  Wedding Receptions & Parties,Conventions Confe...      Houston      US  29.752848  -95.361488   Embassy Suites By Hilton Houston Downtown      77010                          TX  2013-10-23T00:00:00Z  2017-04-03T18:51:15Z                  NaN         NaN             NaN  Rooms are very nice.  Service is good. I perso...                        NaN              NaN           John H                  NaN\n20449     603 Constitution Dr  Wedding Receptions & Parties,Convention & Meet...  West Monroe      US  32.510229  -92.169395    Holiday Inn Express & Suites West Monroe      71292                 Brownsville  2016-02-17T00:00:00Z  2017-02-06T11:07:53Z                  NaN         NaN             5.0  This hotel is located conveniently off of I-20...  Wonderful hotel and staff     Broken Arrow       Dawnelle L                   OK\n4058                 55 Ok St                        Hotels,Lodging,Hotel,Motels       Bisbee      US  31.443132 -109.913490                       Eldorado Suites Hotel      85603                Copper Queen  2015-12-24T00:00:00Z  2016-02-26T13:48:43Z                  NaN         NaN             5.0  I've already written a review for my stay at t...       Came back for Winter      Los Angeles           Luke W                   CA\n(50, 19)\n"
     ],
     "output_type": "stream"
    }
   ],
   "source": [
    "path = 'data/'\n",
    "reviews_file = '7282_1.csv'\n",
    "\n",
    "df = pd.read_csv(path+reviews_file)\n",
    "\n",
    "# Sample some rows\n",
    "df = df.sample(50)\n",
    "print(df.head())\n",
    "print(df.shape)"
   ],
   "metadata": {
    "collapsed": false,
    "pycharm": {
     "name": "#%%\n",
     "is_executing": false
    }
   }
  },
  {
   "cell_type": "code",
   "execution_count": 284,
   "outputs": [
    {
     "name": "stdout",
     "text": [
      "                                                 reviews\n35526  We stayed there for one night during August 20...\n12427  The room was clean, few blemishes, but the plu...\n12570  Rooms are very nice.  Service is good. I perso...\n20449  This hotel is located conveniently off of I-20...\n4058   I've already written a review for my stay at t...\n<class 'pandas.core.frame.DataFrame'>\n"
     ],
     "output_type": "stream"
    }
   ],
   "source": [
    "df = df[['reviews.text']]\n",
    "df.columns = ['reviews']\n",
    "\n",
    "print(df.head())\n",
    "print(type(df))"
   ],
   "metadata": {
    "collapsed": false,
    "pycharm": {
     "name": "#%%\n",
     "is_executing": false
    }
   }
  },
  {
   "cell_type": "markdown",
   "source": [
    "### Preprocessing the reviews"
   ],
   "metadata": {
    "collapsed": false,
    "pycharm": {
     "name": "#%% md\n"
    }
   }
  },
  {
   "cell_type": "code",
   "execution_count": 237,
   "outputs": [],
   "source": [
    "def preProcessing(df):\n",
    "    \n",
    "    all_sentences = []\n",
    "    for row in df.itertuples():\n",
    "        text = row.reviews\n",
    "        # split in sentences\n",
    "        sentences = sent_tokenize(text)\n",
    "        # split in words\n",
    "        sentences = [nltk.word_tokenize(sent) for sent in sentences]\n",
    "        #print(sentences)\n",
    "        all_sentences.append(sentences)\n",
    "        #sentences_pos = [nltk.pos_tag(sent) for sent in sentences]\n",
    "        #print(sentences_pos)\n",
    "        \n",
    "        #words = [word.lower() for sent in sentences for word in sent if word not in stop_words]\n",
    "        #print(words)\n",
    "        \n",
    "        # Back to a single review\n",
    "        #review = ' '.join([word for word in words])\n",
    "        #print(review)\n",
    "    return all_sentences"
   ],
   "metadata": {
    "collapsed": false,
    "pycharm": {
     "name": "#%%\n",
     "is_executing": false
    }
   }
  },
  {
   "cell_type": "code",
   "execution_count": 76,
   "outputs": [],
   "source": [
    "def reviewTagging(reviews):\n",
    "    all_tagged_reviews = []\n",
    "    for review in reviews:\n",
    "        tagged_review = [nltk.pos_tag(sent) for sent in review]\n",
    "        #print(tagged_review)\n",
    "        all_tagged_reviews.append(tagged_review)\n",
    "    \n",
    "    #print(all_tagged_reviews)\n",
    "    return all_tagged_reviews\n"
   ],
   "metadata": {
    "collapsed": false,
    "pycharm": {
     "name": "#%%\n",
     "is_executing": false
    }
   }
  },
  {
   "cell_type": "code",
   "execution_count": 125,
   "outputs": [],
   "source": [
    "def getChunks(sentence):\n",
    "    all_chunks = []\n",
    "    chunker = nltk.chunk.regexp.RegexpParser(grammar)\n",
    "    chunks = [chunker.parse(sentence)]\n",
    "    #print \"Chunks->>\", chunks\n",
    "    #print\n",
    "    wtc_sents = [nltk.chunk.tree2conlltags(chunk) for chunk in chunks]    \n",
    "    flattened_chunks = list(itertools.chain.from_iterable(wtc_sent \n",
    "                                                          for wtc_sent in wtc_sents))\n",
    "    \n",
    "    valid_chunks_tagged = [(status, [wtc for wtc in chunk])\n",
    "                            for status, chunk\n",
    "                                    in itertools.groupby(flattened_chunks,\n",
    "                                            lambda word_pos_chunk: word_pos_chunk[2] != 'O')]\n",
    "                                                \n",
    "    valid_chunks = [' '.join(word.lower() for word, tag, chunk in wtc_group\n",
    "                             if word.lower() not in stop_words) \n",
    "                            for status, wtc_group in valid_chunks_tagged if status]\n",
    "                            \n",
    "    valid_chunks = [word for word in valid_chunks if word]\n",
    "                            \n",
    "    all_chunks.append(valid_chunks)\n",
    "        \n",
    "    return all_chunks"
   ],
   "metadata": {
    "collapsed": false,
    "pycharm": {
     "name": "#%%\n",
     "is_executing": false
    }
   }
  },
  {
   "cell_type": "code",
   "execution_count": 158,
   "outputs": [],
   "source": [
    "def aspectExtraction(reviews):\n",
    "    all_aspects = []\n",
    "    \n",
    "    for i, review in enumerate(reviews):\n",
    "        #print(\"Review\", i+1)\n",
    "        review_aspect_list = []\n",
    "        \n",
    "        for sentence in review:\n",
    "           chunks = getChunks(sentence)\n",
    "           review_aspect_list.extend(chunks)\n",
    "        #print(review_aspect_list)\n",
    "        flattened_list = [y for x in review_aspect_list for y in x]\n",
    "        #print(flattened_list)\n",
    "        #print()\n",
    "        \n",
    "        all_aspects.append(flattened_list)\n",
    "    #print(all_aspects)\n",
    "    return all_aspects\n",
    "    "
   ],
   "metadata": {
    "collapsed": false,
    "pycharm": {
     "name": "#%%\n",
     "is_executing": false
    }
   }
  },
  {
   "cell_type": "code",
   "execution_count": 285,
   "outputs": [],
   "source": [
    "reviews = preProcessing(df)\n",
    "#print(reviews)\n",
    "#print()"
   ],
   "metadata": {
    "collapsed": false,
    "pycharm": {
     "name": "#%%\n",
     "is_executing": false
    }
   }
  },
  {
   "cell_type": "code",
   "execution_count": 286,
   "outputs": [],
   "source": [
    "tagged_reviews = reviewTagging(reviews)\n",
    "#print(tagged_reviews)"
   ],
   "metadata": {
    "collapsed": false,
    "pycharm": {
     "name": "#%%\n",
     "is_executing": false
    }
   }
  },
  {
   "cell_type": "code",
   "execution_count": 287,
   "outputs": [
    {
     "name": "stdout",
     "text": [
      "[['night', 'august', 'weeks', 'road', 'every night', 'different low budget motel', 'little gem', 'reasonable rate', 'room'], ['room', 'blemishes', 'plumbing', 'water pressure', 'bed', 'comfy', 'air conditioner', 'room cool', 'fridge', 'drinks', 'food cold', 'next trip', 'memphis'], ['rooms', 'service', 'hilton', 'street', 'service'], ['hotel', 'i-20', 'tons', 'restaurants', 'staff', 'glitch', 'room', 'staff', 'room', 'places', 'hotel'], ['review', 'stay', 'hotel', 'easter', 'december', 'return visit', 'wife', 'company christmas party', 'bisbee', 'co-workers', 'eldorado suites', 'warm hospitality', 'staff', 'check', 'breeze'], ['kit', 'meeting', 'group', 'success', 'marriott suites', 'meeting events', 'nice hotel', 'boss', 'particular hotel'], ['room', 'door', 'next room', 'neighbor', 'night', 'multiple times', 'sound', 'door', 'room', 'door latch', 'inside', 'room', 'work', 'pieces', 'equipment', 'fitness center', 'piece', 'many hampton inn', 'different states', 'stay'], ['staff', 'breakfast', 'air', 'room'], ['reservations', 'dinner', 'friends', 'lobby twelve', 'restaurant alone', 'lighting temperature', 'much darker colder', 'rest', 'restaurant..strike', 'server', 'drinks', 'drinks', 'order', 'bar', 'waited', 'food orders..this', 'min', 'strike', 'drinks', 'dinner order', 'afterwards', 'mia', 'food', 'drinks water', 'food', 'drinks water refills', 'drinks', 'min..strike', 'drinks', 'scene w/o', 'food', 'food', 'friends', 'problems', 'food', 'ate', 'mgr', 'ask', 'service', 'waiter', 'trouble', 'check', 'mgr', 'bad service', 'check', 'strike', 'server', 'check', 'check', 'table', 'eyes', 'mgr', 'bill', 'gratuity tip', 'mgr', 'tip', 'money', 'hr', 'cash', 'table', 'register w/ another waiter', 'stay', 'biches', 'mgr', 'bad service', 'front', 'speechless'], ['helpful receptionist', 'good local fish restaurant', 'rooms', 'free parking', 'elevator', 'bags', 'upstairs'], ['room', 'staff', 'upgraded room', 'sure', 'uncleaned room', 'good customer service', 'room'], ['room', 'friend', 'birthday celebration', 'room', 'hours', 'front desk staff', 'valet', 'tip', 'adjacent restaurant', 'jackson', 'place', 'next day', 'hostess', 'table', 'tables', 'reservations', 'reservations', 'check-in process', 'front desk staff', 'reservations', 'hotel guests'], ['place', 'long day', 'redwood forrest', 'place', 'beds', 'room', 'manager welcome', 'wine cheese', 'sodas', 'kids', 'welcome delight', 'breakfast', 'morning'], ['lack thereof', 'property', 'another location', 'son play hockey', 'option', 'dogs', 'door jamb', 'door', 'pictures', 'property'], ['desk clerk', 'room', 'beds', 'work', 'nice pool', 'spa', 'usual breakfast', 'waffles', 'biscuits', 'gravy', 'things usual stuff'], ['hotel', 'room', 'door delaminating', 'wallpaper', 'vanity peeling', 'exhaust fan', 'bathroom', 'main room', 'hie', 'level', 'many hie'], ['tricky enterance', 'weekday', 'fridge', 'room', 'advance', 'check', 'fridge quit', 'half days'], ['nice room'], ['le', \"l'htel se situe l'entre du parc le\", \"hotel bruyant un tablissement qui d'aprs moi\", 'pas', 'toiles'], ['hotel', 'renovation', 'entire first floor', 'hotel', 'structure', 'every noice', 'trains', 'hours', 'hot water', 'minutes', 'third floor', 'elevator', 'soda', 'breakfast eggs', 'cheese'], ['hotel', 'room', 'large roach', 'ac unit'], ['area', 'night', 'beds', 'bathroom', 'little dirty', 'ipad', 'room', 'manager', 'great customer service'], ['options', 'breakfast', 'parking space', 'parking garage', 'night', 'designated spots', 'location'], ['thank god', 'tower', 'great location amazing pools', 'jacuzzis', 'beautiful beach view'], ['several times', 'yeah', 'mins', 'route north', 'room', 'trip', 'mins', 'someone', 'post housekeeping inspection', 'standards'], ['hotel sencillo pero acogedor', 'todos los trabajadores', 'camareros', 'amables', 'todo momento', 'un trato excelente', 'si volviera torremolinos dudara', 'elegir el mismo hotel'], ['hotel', 'family stop', 'way', 'florida', 'website', 'indoor pool', 'pool', 'site', 'rooms', 'bed', 'continental breakfast', 'hotel', 'someone', 'business'], ['thing', 'breakfast', 'cereal', 'waffle', 'hotels'], ['briarcliff motel', 'part', 'wedding party', 'vacation', 'location', 'types', 'activities', 'monument mountain', 'road', 'beautiful walks', 'short drive', 'excellent food options', 'town', 'motel', 'pride', 'owners', 'staff'], ['stay', 'nice service'], ['poor review', 'things people', 'way', 'review', 'smoke-smelled room', 'front desk', 'help', 'cleaning services', 'spray', 'air', 'needless', 'anything', 'room', 'cleanliness', 'odor', 'room', 'zero customer service', 'nice room', 'balcony', 'beautiful views', 'stench'], ['comfortable hotel', 'lot', 'activities', 'service'], ['breakfast', 'hotel', 'nice employees', 'pool'], ['front desk staff', 'understand', 'guest', 'guards', 'gardeners', 'cooks', 'staff', 'rooms', 'friendly otherwise', 'rest', 'motions', 'rooms', 'age', 'strength', 'access', 'beach', 'nearby restaurants'], ['tv', 'way', 'breakfast lobby', 'way', 'overall nice place'], ['hotel', 'main road', 'off- ramp', 'occasional traffic noise', 'night stay', 'nice selection', 'breakfast', 'seating-serving area bit', 'staff', 'helpful', 'a+', 'hospitality', 'easy on/off interstate', 'many restaurants', 'mi area', 'elevators not-working part', 'stay', 'nice room -clean'], ['family', 'rooms', 'family members', 'estate sale', 'late father', 'home', 'furnishings', 'hotel', 'hold', 'room', 'rooms', 'terms', 'amount', 'hold', 'difference', 'length', 'hold', 'credit card', 'debit card', 'debit card', 'hold', '5-7 business days', 'hold', 'hotel', 'nothing'], ['easy access', 'courteous desk staff', 'clean room', 'common spaces', '-no smoking', 'comfortable bed', 'highway noise', 'voucher', 'basic breakfast', 'fresh breakfast', 'great coffee', 'plenty', 'parking', 'close', 'waterville', 'access', 'restaurants'], ['town', 'family wedding', 'mountain lodge', 'bedroom suite', 'full baths', 'husband', 'teenage boys', 'hotel staff', 'wonderful stay', 'odd requests'], ['family travel', 'louisiana', 'smoky mtns', 'every year', 'another hotel', 'place', 'renovations', 'gem', 'front desk', 'hotel', 'night', 'family'], ['saddest comfort suites', 'light bulb', 'dark breakfast nook', 'breakfast options', 'broken granite', 'bathroom', 'may', 'point', 'bright spot', 'night manager', 'helpful'], ['daughter', 'houston', 'full days', 'many states', 'staff', 'room', 'nights', 'issues', 'obstacle', 'thank', 'quality suites', 'secure', 'much unknown'], ['friend', 'blue dog', 'block', 'w25th street', 'brilliant find', 'desert', 'burger', 'pizza joints'], ['nice', 'room'], ['convenient off-street parking', 'inn', 'pittsburgh', 'bedrooms', 'common rooms', 'much character', 'spotless', 'hot breakfast', 'hosts'], ['cliffrose', 'great place', 'park', 'feet', 'visitor center', 'nice creek alongside', 'staff', 'restaurant', 'great view', 'patio', 'view', 'room', 'room'], ['staff', 'check-in/out', 'highway', 'basic hotel', 'hopkinsville', 'ky', 'tourist destination', 'beds', 'elevator', 'safety certificate', 'display', 'issues'], ['friendly welcome', 'front desk staff', 'staff', 'bar', 'starwood lounge', 'top notch', 'happy hour', 'bar everyday', 'pricey', 'downtown', 'shortage', 'spots', 'harbor sheraton', 'large numbers'], ['stayed', 'tall ships', 'room', 'room', 'staff', 'food', 'room', 'regular stay'], ['stayed', 'either side', 'trip', 'cape cod', 'wedding', 'science museum', 'boston', 'price', 'breakfast', 'coffee', 'day', 'fridge', 'coffee facilties', 'room', 'problem', 'milk', 'breakfast upto room']]\n"
     ],
     "output_type": "stream"
    }
   ],
   "source": [
    "aspects = aspectExtraction(tagged_reviews)\n",
    "print(aspects)"
   ],
   "metadata": {
    "collapsed": false,
    "pycharm": {
     "name": "#%%\n",
     "is_executing": false
    }
   }
  },
  {
   "cell_type": "code",
   "execution_count": 288,
   "outputs": [
    {
     "name": "stdout",
     "text": [
      "                                                 reviews                                            aspects\n35526  We stayed there for one night during August 20...  [night, august, weeks, road, every night, diff...\n12427  The room was clean, few blemishes, but the plu...  [room, blemishes, plumbing, water pressure, be...\n12570  Rooms are very nice.  Service is good. I perso...          [rooms, service, hilton, street, service]\n20449  This hotel is located conveniently off of I-20...  [hotel, i-20, tons, restaurants, staff, glitch...\n4058   I've already written a review for my stay at t...  [review, stay, hotel, easter, december, return...\n31051  Working with Kit to schedule my meeting and ac...  [kit, meeting, group, success, marriott suites...\n6713   We had a room with a door attaching to next ro...  [room, door, next room, neighbor, night, multi...\n18513  Staff was lovely, breakfast was good. Air cond...                      [staff, breakfast, air, room]\n12515  I made reservations 4 dinner w/ 6 friends. We ...  [reservations, dinner, friends, lobby twelve, ...\n23959  Very helpful receptionist. Recommended a good ...  [helpful receptionist, good local fish restaur...\n21450  When we checked in we were mistakenly sent to ...  [room, staff, upgraded room, sure, uncleaned r...\n5878   I booked the room for myself and a friend for ...  [room, friend, birthday celebration, room, hou...\n22160  We needed a place to rest after a long day of ...  [place, long day, redwood forrest, place, beds...\n19324  If we had known the upkeep, or lack thereof, o...  [lack thereof, property, another location, son...\n31678  It was easy to get to the desk clerk was frien...  [desk clerk, room, beds, work, nice pool, spa,...\n10670  Hotel ok it self. This room had a door delamin...  [hotel, room, door delaminating, wallpaper, va...\n15381  Tricky enterance during the weekday. Asked for...  [tricky enterance, weekday, fridge, room, adva...\n34869        Was a really nice room was nicely furnished                                        [nice room]\n8713   Le plus l'htel se situe l'entre du parc le moi...  [le, l'htel se situe l'entre du parc le, hotel...\n15500  The hotel was under renovation and the entire ...  [hotel, renovation, entire first floor, hotel,...\n22139  i would not recommend this hotel at all. my ro...                [hotel, room, large roach, ac unit]\n22573  Traveling through the area and stayed for 1 ni...  [area, night, beds, bathroom, little dirty, ip...\n28891  More options for breakfast. And there was not ...  [options, breakfast, parking space, parking ga...\n32096  Thank God I'm in tower A. Great location amazi...  [thank god, tower, great location amazing pool...\n11104  I have stayed here several times. Yeah it is a...  [several times, yeah, mins, route north, room,...\n26361  Hotel sencillo pero acogedor, todos los trabaj...  [hotel sencillo pero acogedor, todos los traba...\n8840   The hotel was not ideal for a family stop on t...  [hotel, family stop, way, florida, website, in...\n31693  The only thing they should change is the break...         [thing, breakfast, cereal, waffle, hotels]\n9122   Stayed at The Briarcliff Motel as part of a we...  [briarcliff motel, part, wedding party, vacati...\n32576  My stay was great. Very central to everything!...                               [stay, nice service]\n<class 'pandas.core.frame.DataFrame'>\n"
     ],
     "output_type": "stream"
    }
   ],
   "source": [
    "# Put the aspect in the DF\n",
    "df['aspects'] = aspects\n",
    "print(df.head(30))\n",
    "print(type(df))\n"
   ],
   "metadata": {
    "collapsed": false,
    "pycharm": {
     "name": "#%%\n",
     "is_executing": false
    }
   }
  }
 ],
 "metadata": {
  "language_info": {
   "codemirror_mode": {
    "name": "ipython",
    "version": 2
   },
   "file_extension": ".py",
   "mimetype": "text/x-python",
   "name": "python",
   "nbconvert_exporter": "python",
   "pygments_lexer": "ipython2",
   "version": "2.7.6"
  },
  "kernelspec": {
   "name": "python3",
   "language": "python",
   "display_name": "Python 3"
  },
  "pycharm": {
   "stem_cell": {
    "cell_type": "raw",
    "source": [],
    "metadata": {
     "collapsed": false
    }
   }
  }
 },
 "nbformat": 4,
 "nbformat_minor": 0
}